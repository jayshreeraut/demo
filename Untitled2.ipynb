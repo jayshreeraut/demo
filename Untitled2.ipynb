{
 "cells": [
  {
   "cell_type": "markdown",
   "id": "b7fef970-3f04-415a-8bd3-24599ee4577a",
   "metadata": {},
   "source": [
    "### 3. Count Consecutive Characters\n",
    "For a given string, count consecutive repeating characters and compress it.\n",
    "Example: \"aaabbccccd\" → \"a3b2c4d1\"\n"
   ]
  },
  {
   "cell_type": "code",
   "execution_count": 64,
   "id": "db7989e5-1a42-4c2c-b216-6dca36beb59c",
   "metadata": {},
   "outputs": [
    {
     "ename": "SyntaxError",
     "evalue": "invalid syntax (4257295821.py, line 4)",
     "output_type": "error",
     "traceback": [
      "\u001b[1;36m  Cell \u001b[1;32mIn[64], line 4\u001b[1;36m\u001b[0m\n\u001b[1;33m    s[i]==s[1-i]:\u001b[0m\n\u001b[1;37m                ^\u001b[0m\n\u001b[1;31mSyntaxError\u001b[0m\u001b[1;31m:\u001b[0m invalid syntax\n"
     ]
    }
   ],
   "source": [
    "count=1\n",
    "\n",
    "for i in range(1,len(s)):\n",
    "    s[i]==s[1-i]:\n",
    "     count +=1\n",
    "else :\n",
    "    \n",
    "    "
   ]
  },
  {
   "cell_type": "code",
   "execution_count": 70,
   "id": "a9911564-39ee-4162-be09-d4568d5af296",
   "metadata": {},
   "outputs": [
    {
     "ename": "IndentationError",
     "evalue": "unindent does not match any outer indentation level (<string>, line 12)",
     "output_type": "error",
     "traceback": [
      "\u001b[1;36m  File \u001b[1;32m<string>:12\u001b[1;36m\u001b[0m\n\u001b[1;33m    return second if second != float('-inf') else None\u001b[0m\n\u001b[1;37m                                                      ^\u001b[0m\n\u001b[1;31mIndentationError\u001b[0m\u001b[1;31m:\u001b[0m unindent does not match any outer indentation level\n"
     ]
    }
   ],
   "source": [
    "\n",
    "\n",
    "1. Second Largest Without Sorting\n",
    "Write a program to find the second largest number in a list without using sort() or max() more than once.\n",
    "\n",
    "\n",
    "for num in nums:\n",
    "        if num > first:\n",
    "            second = first\n",
    "            first = num\n",
    "        elif num > second and num != first:\n",
    "            second = num\n",
    "\n",
    "    "
   ]
  },
  {
   "cell_type": "code",
   "execution_count": null,
   "id": "12aa2711-a114-4933-9f05-2a088eab6fe0",
   "metadata": {},
   "outputs": [],
   "source": []
  }
 ],
 "metadata": {
  "kernelspec": {
   "display_name": "Python 3 (ipykernel)",
   "language": "python",
   "name": "python3"
  },
  "language_info": {
   "codemirror_mode": {
    "name": "ipython",
    "version": 3
   },
   "file_extension": ".py",
   "mimetype": "text/x-python",
   "name": "python",
   "nbconvert_exporter": "python",
   "pygments_lexer": "ipython3",
   "version": "3.13.5"
  }
 },
 "nbformat": 4,
 "nbformat_minor": 5
}
